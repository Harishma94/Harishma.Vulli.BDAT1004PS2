{
 "cells": [
  {
   "cell_type": "markdown",
   "id": "323e76c0",
   "metadata": {},
   "source": [
    "## 1) What value is displayed when the last expression (a) is evaluated? Explain your answer by indicating what happens in every executed statement.\n"
   ]
  },
  {
   "cell_type": "code",
   "execution_count": 7,
   "id": "87e0b62e",
   "metadata": {},
   "outputs": [],
   "source": [
    "a = 0\n",
    "def b():\n",
    " global a\n",
    " a = c(a)\n",
    "def c(a):\n",
    " return a + 2"
   ]
  },
  {
   "cell_type": "code",
   "execution_count": 4,
   "id": "a6ce6295",
   "metadata": {},
   "outputs": [],
   "source": [
    "b()"
   ]
  },
  {
   "cell_type": "code",
   "execution_count": 8,
   "id": "8cce26ea",
   "metadata": {},
   "outputs": [],
   "source": [
    "b()"
   ]
  },
  {
   "cell_type": "code",
   "execution_count": 5,
   "id": "3a6a8ce5",
   "metadata": {},
   "outputs": [],
   "source": [
    "b()"
   ]
  },
  {
   "cell_type": "code",
   "execution_count": 6,
   "id": "c0f559ae",
   "metadata": {},
   "outputs": [
    {
     "data": {
      "text/plain": [
       "4"
      ]
     },
     "execution_count": 6,
     "metadata": {},
     "output_type": "execute_result"
    }
   ],
   "source": [
    "a"
   ]
  },
  {
   "cell_type": "markdown",
   "id": "633f94f2",
   "metadata": {},
   "source": [
    "## 2)Function fileLength(), given to you, takes the name of a file as input and returns the length of the file:\n"
   ]
  },
  {
   "cell_type": "code",
   "execution_count": 11,
   "id": "5ac2a66d",
   "metadata": {},
   "outputs": [],
   "source": [
    "def file_length(file):\n",
    "    \n",
    "    try:                          \n",
    "        file = open(file)\n",
    "        contents = file.read()\n",
    "        file.close()\n",
    "        print(len(contents))\n",
    "    \n",
    "    except:                       \n",
    "        print('File {} not found.'.format(file))"
   ]
  },
  {
   "cell_type": "code",
   "execution_count": 12,
   "id": "dce4cf26",
   "metadata": {},
   "outputs": [
    {
     "name": "stdout",
     "output_type": "stream",
     "text": [
      "File Filelength.txt not found.\n"
     ]
    }
   ],
   "source": [
    "file_length('Filelength.txt')"
   ]
  },
  {
   "cell_type": "code",
   "execution_count": 14,
   "id": "2b9e2108",
   "metadata": {},
   "outputs": [
    {
     "name": "stdout",
     "output_type": "stream",
     "text": [
      "File Filelngth.txt not found.\n"
     ]
    }
   ],
   "source": [
    "file_length('Filelngth.txt')"
   ]
  },
  {
   "cell_type": "markdown",
   "id": "9a6a7986",
   "metadata": {},
   "source": [
    "## 3)Write a class named Marsupial, write a class named Kangaroo as a subclass of Marsupial that inherits all the attributes of Marsupial\n",
    " "
   ]
  },
  {
   "cell_type": "code",
   "execution_count": 21,
   "id": "a0ad0625",
   "metadata": {},
   "outputs": [],
   "source": [
    "class Marsupial:          \n",
    "    def __init__(self,a,b):             \n",
    "        self.pouch=[]                        \n",
    "    def put_in_pouch(self,items): \n",
    "        self.pouch.append(items)   \n",
    "    def pouch_contents(self):          \n",
    "        return self.pouch\n",
    "\n",
    "class Kangaroo(Marsupial):              \n",
    "    def __init__(self,a,b):              \n",
    "        super().__init__(a,b)          \n",
    "        self.da = 0                      \n",
    "        self.db = 0                        \n",
    "    def jump(self,a,b):                 \n",
    "        self.da = self.da + a                \n",
    "        self.db = self.db + b\n",
    "    def __str__(self):                                                      \n",
    "        return ('I am a Kangaroo located at coordinates({},{})'.format(self.da,self.db))"
   ]
  },
  {
   "cell_type": "code",
   "execution_count": 26,
   "id": "2a487018",
   "metadata": {},
   "outputs": [],
   "source": [
    "A = Kangaroo(0,0)"
   ]
  },
  {
   "cell_type": "code",
   "execution_count": 27,
   "id": "8779b907",
   "metadata": {},
   "outputs": [
    {
     "name": "stdout",
     "output_type": "stream",
     "text": [
      "I am a Kangaroo located at coordinates(0,0)\n"
     ]
    }
   ],
   "source": [
    "print(A)"
   ]
  },
  {
   "cell_type": "code",
   "execution_count": 28,
   "id": "9ad6a679",
   "metadata": {},
   "outputs": [],
   "source": [
    "A.put_in_pouch('doll')"
   ]
  },
  {
   "cell_type": "code",
   "execution_count": 29,
   "id": "fab53879",
   "metadata": {},
   "outputs": [],
   "source": [
    "A.put_in_pouch('firetruck')"
   ]
  },
  {
   "cell_type": "code",
   "execution_count": 30,
   "id": "d5dbaf94",
   "metadata": {},
   "outputs": [],
   "source": [
    "A.put_in_pouch('kitten')"
   ]
  },
  {
   "cell_type": "code",
   "execution_count": 31,
   "id": "21ffde4e",
   "metadata": {},
   "outputs": [
    {
     "data": {
      "text/plain": [
       "['doll', 'firetruck', 'kitten']"
      ]
     },
     "execution_count": 31,
     "metadata": {},
     "output_type": "execute_result"
    }
   ],
   "source": [
    "A.pouch_contents()"
   ]
  },
  {
   "cell_type": "code",
   "execution_count": 32,
   "id": "4f1a1257",
   "metadata": {},
   "outputs": [
    {
     "name": "stdout",
     "output_type": "stream",
     "text": [
      "I am a Kangaroo located at coordinates(3,0)\n"
     ]
    }
   ],
   "source": [
    "A.jump(1,0)\n",
    "A.jump(1,0)\n",
    "A.jump(1,0)\n",
    "print(A)"
   ]
  },
  {
   "cell_type": "markdown",
   "id": "5a039182",
   "metadata": {},
   "source": [
    "## 4) Write function collatz() that takes a positive integer x as input and prints the Collatz sequence starting at x. A Collatz sequence is obtained by repeatedly applying this rule to the previous number x in the sequence:\n",
    "\n"
   ]
  },
  {
   "cell_type": "code",
   "execution_count": 33,
   "id": "21545aad",
   "metadata": {},
   "outputs": [
    {
     "name": "stdout",
     "output_type": "stream",
     "text": [
      "10\n",
      "5\n",
      "16\n",
      "8\n",
      "4\n",
      "2\n",
      "1\n"
     ]
    }
   ],
   "source": [
    "def collatz(n):\n",
    "    \n",
    "    if n== 1:\n",
    "        print(int(n))\n",
    "        \n",
    "    elif n%2 == 0:\n",
    "            print(int(n))\n",
    "            return collatz(n/2)\n",
    "            \n",
    "    else:\n",
    "            print(int(n))\n",
    "            collatz((3*n) + 1)\n",
    "            \n",
    "collatz(10)"
   ]
  },
  {
   "cell_type": "markdown",
   "id": "0d89f11f",
   "metadata": {},
   "source": [
    "## Write a recursive method binary() that takes a non-negative integer n and prints the binary representation of integer n.\n"
   ]
  },
  {
   "cell_type": "code",
   "execution_count": 34,
   "id": "59a99060",
   "metadata": {},
   "outputs": [
    {
     "name": "stdout",
     "output_type": "stream",
     "text": [
      "1001"
     ]
    }
   ],
   "source": [
    "def binary(i):    \n",
    "    if i == 0:\n",
    "        return 0\n",
    "    else:\n",
    "        binary(i//2)\n",
    "    print(i % 2,end = '')\n",
    "\n",
    "\n",
    "binary(9)"
   ]
  },
  {
   "cell_type": "markdown",
   "id": "f681a6fd",
   "metadata": {},
   "source": [
    "## 6) Implement a class named HeadingParser that can be used to parse an HTML document, and retrieve and print all the headings in the document.\n"
   ]
  },
  {
   "cell_type": "code",
   "execution_count": 5,
   "id": "fdc19cda",
   "metadata": {},
   "outputs": [
    {
     "ename": "FileNotFoundError",
     "evalue": "[Errno 2] No such file or directory: 'w3c.html'",
     "output_type": "error",
     "traceback": [
      "\u001b[1;31m---------------------------------------------------------------------------\u001b[0m",
      "\u001b[1;31mFileNotFoundError\u001b[0m                         Traceback (most recent call last)",
      "Input \u001b[1;32mIn [5]\u001b[0m, in \u001b[0;36m<cell line: 3>\u001b[1;34m()\u001b[0m\n\u001b[0;32m      1\u001b[0m \u001b[38;5;28;01mfrom\u001b[39;00m \u001b[38;5;21;01mhtml\u001b[39;00m\u001b[38;5;21;01m.\u001b[39;00m\u001b[38;5;21;01mparser\u001b[39;00m \u001b[38;5;28;01mimport\u001b[39;00m HTMLParser            \u001b[38;5;66;03m#defining library module html.parser and importing library\u001b[39;00m\n\u001b[1;32m----> 3\u001b[0m a \u001b[38;5;241m=\u001b[39m \u001b[38;5;28;43mopen\u001b[39;49m\u001b[43m(\u001b[49m\u001b[38;5;124;43m'\u001b[39;49m\u001b[38;5;124;43mw3c.html\u001b[39;49m\u001b[38;5;124;43m'\u001b[39;49m\u001b[43m)\u001b[49m     \n\u001b[0;32m      4\u001b[0m b\u001b[38;5;241m=\u001b[39m\u001b[38;5;28mstr\u001b[39m(a\u001b[38;5;241m.\u001b[39mread())\n\u001b[0;32m      6\u001b[0m \u001b[38;5;28;01mclass\u001b[39;00m \u001b[38;5;21;01mHeadingParser\u001b[39;00m(HTMLParser):         \n",
      "\u001b[1;31mFileNotFoundError\u001b[0m: [Errno 2] No such file or directory: 'w3c.html'"
     ]
    }
   ],
   "source": [
    "from html.parser import HTMLParser            #defining library module html.parser and importing library\n",
    "\n",
    "a = open('w3c.html')     \n",
    "b=str(a.read())\n",
    "\n",
    "class HeadingParser(HTMLParser):         \n",
    "    \n",
    "    def __init__(self):                    \n",
    "        HTMLParser.__init__(self)\n",
    "        self.flag = 0 \n",
    "    \n",
    "    def handle_strtag(self, tag, attrs):                     \n",
    "        \n",
    "        if tag == 'h1' or tag == 'h2' or tag == 'h3' or tag == 'h4' or tag=='h5' or tag == 'h6' or tag == 'h7':\n",
    "            self.flag += 1                                     \n",
    "        else:\n",
    "            self.flag = 0\n",
    "            \n",
    "    def handle_data(self, data):           \n",
    "        if self.flag and data!='\\n':\n",
    "            \n",
    "            print('{} {} '.format(self.flag*' ', data))\n",
    "\n",
    "\n",
    "    parser = HeadingParser()                            \n",
    "    parser.feed(b)"
   ]
  },
  {
   "cell_type": "markdown",
   "id": "3b9a105b",
   "metadata": {},
   "source": [
    "## 7)Implement recursive function webdir() that takes as input: a URL (as a string) and non-negative integers depth and indent. Your function should visit every web page reachable from the starting URL web page in depth clicks or less, and print each web page's URL."
   ]
  },
  {
   "cell_type": "code",
   "execution_count": 7,
   "id": "46892478",
   "metadata": {},
   "outputs": [],
   "source": [
    "from urllib.parse import urljoin\n",
    "from urllib.request import urlopen\n",
    "from html.parser import HTMLParser\n",
    "\n",
    "class Collector(HTMLParser):  \n",
    "\n",
    "    def __init__(self, url): \n",
    "        HTMLParser.__init__(self)\n",
    "        self.url = url\n",
    "        self.links = []\n",
    "\n",
    "    def handle_starttag(self, tag, attrs): \n",
    "        if tag == 'a':\n",
    "            for attr in attrs:\n",
    "                if attr[0] == 'href':\n",
    "                    \n",
    "                    total = urljoin(self.url, attr[1])\n",
    "                    if total[:4] == 'http':\n",
    "                        self.links.append(total)\n",
    "                        \n",
    "    def getLinks(self): \n",
    "        return self.links"
   ]
  },
  {
   "cell_type": "code",
   "execution_count": 8,
   "id": "4e45c8b8",
   "metadata": {},
   "outputs": [],
   "source": [
    "def webdir(url, depth, indent):\n",
    "    \n",
    "    \n",
    "    try:\n",
    "        depth_value = int(depth)\n",
    "        indent_value = int(indent)\n",
    "        \n",
    "        if depth_value < 0 or indent_value < 0:      \n",
    "            raise ValueError\n",
    "            \n",
    "        source = urlopen(url)\n",
    "        content = source.read().decode()\n",
    "        collector = Collector(url)\n",
    "        collector.feed(content)\n",
    "        links = collector.getLinks()                \n",
    "\n",
    "        if indent_value == 0:\n",
    "            print('{}'.format(url))\n",
    "\n",
    "        indent_value += 4\n",
    "        depth_value = depth_value-1\n",
    "        \n",
    "        if depth_value >= 0:\n",
    "            for link in links:                          \n",
    "                print('{}{}'.format(indent_value*' ', link), end = '\\n')\n",
    "                if (depth_value) > 0: \n",
    "                    webdir(link, depth_value, indent_value)          \n",
    "                \n",
    "    except ValueError:\n",
    "        print(\"Enter a correct value for depth or indent\")"
   ]
  },
  {
   "cell_type": "code",
   "execution_count": 9,
   "id": "e4074adb",
   "metadata": {
    "scrolled": true
   },
   "outputs": [
    {
     "name": "stdout",
     "output_type": "stream",
     "text": [
      "http://reed.cs.depaul.edu/lperkovic/one.html\n",
      "    http://reed.cs.depaul.edu/lperkovic/two.html\n",
      "        http://reed.cs.depaul.edu/lperkovic/four.html\n",
      "    http://reed.cs.depaul.edu/lperkovic/three.html\n",
      "        http://reed.cs.depaul.edu/lperkovic/four.html\n"
     ]
    }
   ],
   "source": [
    "webdir('http://reed.cs.depaul.edu/lperkovic/one.html', 2, 0)"
   ]
  },
  {
   "cell_type": "markdown",
   "id": "e6adeea2",
   "metadata": {},
   "source": [
    "## 8 ) Write SQL queries"
   ]
  },
  {
   "cell_type": "code",
   "execution_count": 25,
   "id": "ec7e2303",
   "metadata": {},
   "outputs": [
    {
     "data": {
      "text/plain": [
       "<sqlite3.Cursor at 0x14e76f19730>"
      ]
     },
     "execution_count": 25,
     "metadata": {},
     "output_type": "execute_result"
    }
   ],
   "source": [
    "import sqlite3\n",
    "con = sqlite3.connect('DBdoc.db')\n",
    "cur = con.cursor()\n",
    "cur.execute(\"create table weather (City text, Country text, Season text,Temperature float,Rainfall float)\")\n",
    "cur.execute(\"insert into weather values ('Mumbai', 'India', 'Winter',24.8,5.9)\")\n",
    "cur.execute(\"insert into weather values ('Mumbai', 'India', 'Spring',28.4,16.2)\")\n",
    "cur.execute(\"insert into weather values ('Mumbai', 'India', 'Summer',27.9,1549.4 )\")\n",
    "cur.execute(\"insert into weather values ('Mumbai', 'India', 'Fall',27.6,346.0)\")\n",
    "cur.execute(\"insert into weather values ('London', 'United Kingdom', 'Winter',4.2,207.7 )\")\n",
    "cur.execute(\"insert into weather values ('London', 'United Kingdom', 'Spring',8.3,169.6)\")\n",
    "cur.execute(\"insert into weather values ('London', 'United Kingdom', 'Summer',15.7,157.0)\")\n",
    "cur.execute(\"insert into weather values ('London', 'United Kingdom', 'Fall',10.4,218.5)\")\n",
    "cur.execute(\"insert into weather values ('Cairo', 'Egypt', 'Winter',13.6,16.5)\")\n",
    "cur.execute(\"insert into weather values ('Cairo', 'Egypt', 'Spring',20.7,6.5)\")\n",
    "cur.execute(\"insert into weather values ('Cairo', 'Egypt', 'Summer',27.7,0.1)\")\n",
    "cur.execute(\"insert into weather values ('Cairo', 'Egypt', 'Fall',22.2,4.5)\")"
   ]
  },
  {
   "cell_type": "code",
   "execution_count": 30,
   "id": "c894b212",
   "metadata": {},
   "outputs": [
    {
     "data": {
      "text/plain": [
       "[('Mumbai', 'India', 'Winter', 24.8, 5.9),\n",
       " ('Mumbai', 'India', 'Spring', 28.4, 16.2),\n",
       " ('Mumbai', 'India', 'Summer', 27.9, 1549.4),\n",
       " ('Mumbai', 'India', 'Fall', 27.6, 346.0),\n",
       " ('London', 'United Kingdom', 'Winter', 4.2, 207.7),\n",
       " ('London', 'United Kingdom', 'Spring', 8.3, 169.6),\n",
       " ('London', 'United Kingdom', 'Summer', 15.7, 157.0),\n",
       " ('London', 'United Kingdom', 'Fall', 10.4, 218.5),\n",
       " ('Cairo', 'Egypt', 'Winter', 13.6, 16.5),\n",
       " ('Cairo', 'Egypt', 'Spring', 20.7, 6.5),\n",
       " ('Cairo', 'Egypt', 'Summer', 27.7, 0.1),\n",
       " ('Cairo', 'Egypt', 'Fall', 22.2, 4.5)]"
      ]
     },
     "execution_count": 30,
     "metadata": {},
     "output_type": "execute_result"
    }
   ],
   "source": [
    "cur.execute('select * from weather')\n",
    "cur.fetchall()"
   ]
  },
  {
   "cell_type": "code",
   "execution_count": 31,
   "id": "399106e0",
   "metadata": {},
   "outputs": [
    {
     "data": {
      "text/plain": [
       "[(24.8,),\n",
       " (28.4,),\n",
       " (27.9,),\n",
       " (27.6,),\n",
       " (4.2,),\n",
       " (8.3,),\n",
       " (15.7,),\n",
       " (10.4,),\n",
       " (13.6,),\n",
       " (20.7,),\n",
       " (27.7,),\n",
       " (22.2,)]"
      ]
     },
     "execution_count": 31,
     "metadata": {},
     "output_type": "execute_result"
    }
   ],
   "source": [
    "cur.execute('Select temperature FROM weather')\n",
    "cur.fetchall()"
   ]
  },
  {
   "cell_type": "code",
   "execution_count": 34,
   "id": "bfff9da4",
   "metadata": {},
   "outputs": [
    {
     "data": {
      "text/plain": [
       "[('Mumbai',), ('London',), ('Cairo',)]"
      ]
     },
     "execution_count": 34,
     "metadata": {},
     "output_type": "execute_result"
    }
   ],
   "source": [
    "cur.execute('select distinct City from weather')\n",
    "cur.fetchall()"
   ]
  },
  {
   "cell_type": "code",
   "execution_count": 35,
   "id": "85e7e0cd",
   "metadata": {},
   "outputs": [
    {
     "data": {
      "text/plain": [
       "[('Mumbai', 'India', 'Winter', 24.8, 5.9),\n",
       " ('Mumbai', 'India', 'Spring', 28.4, 16.2),\n",
       " ('Mumbai', 'India', 'Summer', 27.9, 1549.4),\n",
       " ('Mumbai', 'India', 'Fall', 27.6, 346.0)]"
      ]
     },
     "execution_count": 35,
     "metadata": {},
     "output_type": "execute_result"
    }
   ],
   "source": [
    "cur.execute(\"select * from weather where Country='India'\")\n",
    "cur.fetchall()"
   ]
  },
  {
   "cell_type": "code",
   "execution_count": 38,
   "id": "d23342c1",
   "metadata": {},
   "outputs": [
    {
     "data": {
      "text/plain": [
       "[('Mumbai', 'India', 'Fall'),\n",
       " ('London', 'United Kingdom', 'Winter'),\n",
       " ('London', 'United Kingdom', 'Fall')]"
      ]
     },
     "execution_count": 38,
     "metadata": {},
     "output_type": "execute_result"
    }
   ],
   "source": [
    "cur.execute(\"select City,country,Season from weather where Rainfall between 200 and 400\")\n",
    "cur.fetchall()"
   ]
  },
  {
   "cell_type": "code",
   "execution_count": 39,
   "id": "33e8366b",
   "metadata": {},
   "outputs": [
    {
     "data": {
      "text/plain": [
       "[('Cairo', 'Egypt'), ('Mumbai', 'India')]"
      ]
     },
     "execution_count": 39,
     "metadata": {},
     "output_type": "execute_result"
    }
   ],
   "source": [
    "cur.execute(\"select City,country from weather where Season='Fall' and temperature > 20 order by temperature ASC\")\n",
    "cur.fetchall()"
   ]
  },
  {
   "cell_type": "code",
   "execution_count": 40,
   "id": "c6231617",
   "metadata": {},
   "outputs": [
    {
     "data": {
      "text/plain": [
       "[(27.6,)]"
      ]
     },
     "execution_count": 40,
     "metadata": {},
     "output_type": "execute_result"
    }
   ],
   "source": [
    "cur.execute(\"select sum(Rainfall) from weather where City='Cairo'\")\n",
    "cur.fetchall()"
   ]
  },
  {
   "cell_type": "code",
   "execution_count": 41,
   "id": "b969d204",
   "metadata": {},
   "outputs": [
    {
     "data": {
      "text/plain": [
       "[(569.0,), (192.29999999999998,), (1706.5,), (230.1,)]"
      ]
     },
     "execution_count": 41,
     "metadata": {},
     "output_type": "execute_result"
    }
   ],
   "source": [
    "cur.execute(\"select sum(Rainfall) from weather group by Season\")\n",
    "cur.fetchall()"
   ]
  },
  {
   "cell_type": "markdown",
   "id": "5aa93871",
   "metadata": {},
   "source": [
    "## 9) Suppose list words is defined as follows: >>> words = ['The', 'quick', 'brown', 'fox', 'jumps', 'over', 'the', 'lazy', 'dog']  Write list comprehension expressions that use list words and generate the following lists:\n"
   ]
  },
  {
   "cell_type": "code",
   "execution_count": 11,
   "id": "d7f6a9c0",
   "metadata": {},
   "outputs": [
    {
     "name": "stdout",
     "output_type": "stream",
     "text": [
      "['THE', 'QUICK', 'BROWN', 'FOX', 'JUMPS', 'OVER', 'THE', 'LAZY', 'DOG']\n"
     ]
    }
   ],
   "source": [
    "words = ['The', 'quick', 'brown', 'fox', 'jumps', 'over', 'the', 'lazy', 'dog']\n",
    "\n",
    "capital_list = [word.upper() for word in words]\n",
    "print(capital_list)"
   ]
  },
  {
   "cell_type": "code",
   "execution_count": 12,
   "id": "570854be",
   "metadata": {},
   "outputs": [
    {
     "name": "stdout",
     "output_type": "stream",
     "text": [
      "['the', 'quick', 'brown', 'fox', 'jumps', 'over', 'the', 'lazy', 'dog']\n"
     ]
    }
   ],
   "source": [
    "small_list = [word.lower() for word in words]\n",
    "print(small_list)"
   ]
  },
  {
   "cell_type": "code",
   "execution_count": 13,
   "id": "f8080d4e",
   "metadata": {},
   "outputs": [
    {
     "name": "stdout",
     "output_type": "stream",
     "text": [
      "[3, 5, 5, 3, 5, 4, 3, 4, 3]\n"
     ]
    }
   ],
   "source": [
    "numbers_list = [ len(word) for word in words]\n",
    "print(numbers_list)"
   ]
  },
  {
   "cell_type": "code",
   "execution_count": 14,
   "id": "4ca01734",
   "metadata": {},
   "outputs": [
    {
     "name": "stdout",
     "output_type": "stream",
     "text": [
      "[['THE', 'the', 3], ['QUICK', 'quick', 5], ['BROWN', 'brown', 5], ['FOX', 'fox', 3], ['JUMPS', 'jumps', 5], ['OVER', 'over', 4], ['THE', 'the', 3], ['LAZY', 'lazy', 4], ['DOG', 'dog', 3]]\n"
     ]
    }
   ],
   "source": [
    "List = [ [word.upper(), word.lower(), len(word)] for word in words]\n",
    "print(List)"
   ]
  },
  {
   "cell_type": "code",
   "execution_count": 16,
   "id": "5b99f437",
   "metadata": {},
   "outputs": [
    {
     "name": "stdout",
     "output_type": "stream",
     "text": [
      "['quick', 'brown', 'jumps', 'over', 'lazy']\n"
     ]
    }
   ],
   "source": [
    "char4words = [word for word in words if len(word)>= 4]\n",
    "print(char4words)"
   ]
  },
  {
   "cell_type": "code",
   "execution_count": null,
   "id": "9dc36334",
   "metadata": {},
   "outputs": [],
   "source": []
  }
 ],
 "metadata": {
  "kernelspec": {
   "display_name": "Python 3 (ipykernel)",
   "language": "python",
   "name": "python3"
  },
  "language_info": {
   "codemirror_mode": {
    "name": "ipython",
    "version": 3
   },
   "file_extension": ".py",
   "mimetype": "text/x-python",
   "name": "python",
   "nbconvert_exporter": "python",
   "pygments_lexer": "ipython3",
   "version": "3.9.12"
  }
 },
 "nbformat": 4,
 "nbformat_minor": 5
}
